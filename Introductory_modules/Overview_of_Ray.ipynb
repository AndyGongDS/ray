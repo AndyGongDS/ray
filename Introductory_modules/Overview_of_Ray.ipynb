{
 "cells": [
  {
   "cell_type": "markdown",
   "metadata": {},
   "source": [
    "# Overview of Ray\n",
    "\n",
    "<img src=\"https://technical-training-assets.s3.us-west-2.amazonaws.com/Generic/ray_logo.png\" width=\"20%\" loading=\"lazy\">\n",
    "\n",
    "## About this notebook\n",
    "\n",
    "### Is it right for you?\n",
    "\n",
    "This is an introductory notebook that offers a broad overview of the Ray project. The ideal learner will find themselves in the following scenarios:\n",
    "\n",
    "* You are new to Ray and are looking for a project primer.\n",
    "* You are interested in how Ray, a Python first distributed computing framework, can scale your Python applications and machine learning workloads.\n",
    "\n",
    "### Prerequisites\n",
    "\n",
    "For this notebook, you should satisfy the following requirements:\n",
    "\n",
    "* Practical Python and machine learning experience\n",
    "* No prior experience with Ray or distributed computing\n",
    "\n",
    "### Learning objectives\n",
    "\n",
    "* Understand what Ray is.\n",
    "* Recognize key characteristics of Ray.\n",
    "* Tour the three layers of Ray.\n",
    "    * Ray Core\n",
    "    * Native libraries\n",
    "    * Ecosystem of integrations\n",
    "* Explore the most common Ray use cases.\n",
    "* Implement a regression task.\n",
    "    * Sequentially in generic Python\n",
    "    * In parallel with Ray\n",
    "* Identify where to go next with Ray.\n",
    "\n",
    "### What will you do?\n",
    "\n",
    "In *Part 1* of this notebook you will learn about Ray project. Then, in *Part 2* you will run an illustrative code example that will give you better \"feel\" for Ray."
   ]
  },
  {
   "cell_type": "markdown",
   "metadata": {},
   "source": [
    "## Part 1: Ray project\n",
    "\n",
    "|<img src=\"https://technical-training-assets.s3.us-west-2.amazonaws.com/Overview_of_Ray/ray_project.png\" width=\"70%\" loading=\"lazy\">|\n",
    "|:--|\n",
    "|Ray is one of the leading open source ML projects. (date accessed: Nov 2, 2022)|"
   ]
  },
  {
   "cell_type": "markdown",
   "metadata": {},
   "source": [
    "### Introduction\n",
    "\n",
    "#### What is Ray?\n",
    "\n",
    "<div class=\"alert alert-info\">\n",
    "  <strong><a href=\"https://www.ray.io/\" target=\"_blank\">Ray</a></strong> is an open-source unified compute framework that makes it easy to scale AI and Python workloads.\n",
    "</div>\n",
    "\n",
    "Ray provides the compute layer to scale applications without becoming a distributed systems expert. These are some key processes that Ray automatically handles:\n",
    "\n",
    "* **Orchestration.** Managing the various components of a distributed system.\n",
    "* **Scheduling.** Coordinating when and where tasks are executed.\n",
    "* **Fault tolerance.** Ensuring tasks complete regardless of inevitable points of failure.\n",
    "* **Auto-scaling.** Adjusting the number of resources allocated to dynamic demand.\n",
    "\n",
    "To lower the effort needed to scale compute intensive workloads, Ray takes a Python-first approach and integrates with many common data science tools. This allows ML practitioners to parallelize Python applications from a laptop to a cluster with minimal code changes.\n",
    "\n",
    "#### Distributed computing: a bit of context and project history\n",
    "\n",
    "|<img src=\"https://technical-training-assets.s3.us-west-2.amazonaws.com/Overview_of_Ray/ai_compute_annotated.png\" width=\"70%\" loading=\"lazy\">|\n",
    "|:--|\n",
    "|Amount of compute used in the largest AI training runs far outpaces the processing power of individual CPUs, GPUs, and TPUs. Original diagram from [OpenAI](https://openai.com/blog/ai-and-compute/) with overlaid annotations.|\n",
    "\n",
    "Distributed computing is becoming increasingly relevant for modern machine learning systems. OpenAI's recent paper [AI and Compute](https://openai.com/blog/ai-and-compute/) suggests that the amount of compute needed to train AI models has roughly doubled every 3.5 months since 2012.\n",
    "\n",
    "However, distributed systems are hard to program. Scaling a Python application to a cluster introduces challenges in communication, scheduling, security, failure handling, heterogeneity, transparency, and much more.\n",
    "\n",
    "This context drove the development of Ray: a solution to enable developers to run Python code on clusters without having to think about how to orchestrate and utilize individual machines. The same researchers who created Ray at the University of California Berkeley's [RISELab](https://rise.cs.berkeley.edu/) (the successor to the [AMPLab](https://amplab.cs.berkeley.edu/about/) that created [Apache Spark](https://spark.apache.org/) and [Mesos](https://mesos.apache.org/)) founded [Anyscale](https://www.anyscale.com/)——a managed Ray platform that offers hosted solutions for Ray applications."
   ]
  },
  {
   "cell_type": "markdown",
   "metadata": {},
   "source": [
    "### Key Ray characteristics\n",
    "\n",
    "|<img src=\"https://technical-training-assets.s3.us-west-2.amazonaws.com/Overview_of_Ray/python_first.jpeg\" width=\"70%\" loading=\"lazy\">|<img src=\"https://technical-training-assets.s3.us-west-2.amazonaws.com/Overview_of_Ray/simple_and_flexible_api.jpeg\" width=\"70%\" loading=\"lazy\">|<img src=\"https://technical-training-assets.s3.us-west-2.amazonaws.com/Overview_of_Ray/scalability.jpeg\" width=\"70%\" loading=\"lazy\">|<img src=\"https://technical-training-assets.s3.us-west-2.amazonaws.com/Overview_of_Ray/heterogeneous_hardware.jpeg\" width=\"70%\" loading=\"lazy\">|\n",
    "|:-:|:-:|:-:|:-:|\n",
    "|Python first approach|Simple and flexible API|Scalability|Support for heterogeneous hardware|\n",
    "\n",
    "#### Python first approach\n",
    "\n",
    "<img src=\"https://technical-training-assets.s3.us-west-2.amazonaws.com/Overview_of_Ray/python_first.jpeg\" width=\"100px\" loading=\"lazy\">\n",
    "\n",
    "Ray allows you to flexibly compose distributed applications with easy to use primitives in native Python code. This way, you can scale your existing workloads with minimal code changes. Getting started with Ray Core involves just a few key abstractions:\n",
    "\n",
    "1. [**Tasks**](https://docs.ray.io/en/latest/ray-core/key-concepts.html#tasks). Remote, stateless Python functions\n",
    "1. [**Actors**](https://docs.ray.io/en/latest/ray-core/key-concepts.html#actors). Remote, stateful Python classes\n",
    "1. [**Objects**](https://docs.ray.io/en/latest/ray-core/key-concepts.html#objects). Tasks and actors create and compute on objects that can be stored and accessed anywhere in the cluster; cached in Ray's distributed [shared-memory](https://en.wikipedia.org/wiki/Shared_memory) object store\n",
    "\n",
    "You will learn more about these abstractions in the [Ray Core tutorials](https://github.com/ray-project/ray-educational-materials/tree/main/Ray_Core).\n",
    "\n",
    "#### Simple and flexible API\n",
    "\n",
    "<img src=\"https://technical-training-assets.s3.us-west-2.amazonaws.com/Overview_of_Ray/simple_and_flexible_api.jpeg\" width=\"100px\" loading=\"lazy\">\n",
    "\n",
    "##### Ray Core\n",
    "\n",
    "<div class=\"alert alert-info\">\n",
    "  <strong><a href=\"https://docs.ray.io/en/latest/ray-core/walkthrough.html\" target=\"_blank\">Ray Core</a></strong> is an open-source, Python, general purpose, distributed computing library that enables ML engineers and Python developers to scale Python applications and accelerate machine learning workloads.\n",
    "</div>\n",
    "\n",
    "Acting as the foundational library for the whole ecosystem, Ray Core provides a minimalist API that enables distributed computing. With just a few methods, you can start building distributed apps:\n",
    "\n",
    "* **`ray.init()`**  \n",
    "Start Ray runtime and connect to the Ray cluster.\n",
    "* **`@ray.remote`**  \n",
    "Decorator that specifies a Python function or class to be executed as a task (remote function) or actor (remote class) in a different process.\n",
    "* **`.remote`**  \n",
    "Postfix to the remote functions and classes; remote operations are *asynchronous*.\n",
    "* **`ray.put()`**  \n",
    "Put an object in the in-memory object store; returns an object reference used to pass the object to any remote function or method call.\n",
    "* **`ray.get()`**  \n",
    "Get a remote object(s) from the object store by specifying the object reference(s).\n",
    "\n",
    "*(In the second part of this notebook you will see illustrative example for some of these methods.)*\n",
    "\n",
    "##### Ray AI Runtime (AIR)\n",
    "\n",
    "<div class=\"alert alert-info\">\n",
    "  <strong><a href=\"https://docs.ray.io/en/latest/ray-air/getting-started.html\" target=\"_blank\">Ray AI Runtime (AIR)</a></strong> is an open-source, Python, domain-specific set of libraries that equips ML engineers, data scientists, and researchers with a scalable and unified toolkit for ML applications.\n",
    "</div>\n",
    "\n",
    "Ray AI Runtime (AIR) (sometimes referred to as native libraries and ecosystem of integrations) provides higher level APIs that cater to more domain-specific use cases. Ray AIR enables data scientists and ML engineers to scale individual workloads, end-to-end workflows, and popular ecosystem frameworks, all in Python.\n",
    "\n",
    "#### Scalability\n",
    "\n",
    "<img src=\"https://technical-training-assets.s3.us-west-2.amazonaws.com/Overview_of_Ray/scalability.jpeg\" width=\"100px\" loading=\"lazy\">\n",
    "\n",
    "Ray allows users to utilize large compute clusters in an easy, productive, and resource-efficient way.\n",
    "\n",
    "Fundamentally, Ray treats the entire cluster as a single, unified pool of resources and takes care of optimally mapping compute workloads to the pool. By doing so, Ray largely eliminates non-scalable factors in the system. \n",
    "\n",
    "Some examples of successful user stories include the following:\n",
    "* [Instacart](https://www.youtube.com/watch?v=3t26ucTy0Rs) uses Ray to power their large scale fulfillment ML pipline.\n",
    "* [OpenAI](https://twitter.com/anyscalecompute/status/1562136159135973380) trains their largest models (including ChatGPT).\n",
    "* Companies like [HuggingFace and Cohere](https://www.youtube.com/watch?v=For8yLkZP5w) use Ray Train for scaling model training.\n",
    "\n",
    "A notable strength is Ray's [autoscaler](https://docs.ray.io/en/latest/cluster/key-concepts.html#autoscaling) implements automatic scaling of Ray clusters based on the resource demands of an application. The autoscaler will increase worker nodes when the Ray workload exceeds the cluster's capacity. Whenever worker nodes sit idle, the autoscaler will scale them down.\n",
    "\n",
    "#### Support for heterogeneous hardware\n",
    "\n",
    "<img src=\"https://technical-training-assets.s3.us-west-2.amazonaws.com/Overview_of_Ray/heterogeneous_hardware.jpeg\" width=\"100px\" loading=\"lazy\">\n",
    "\n",
    "Heterogeneous systems present new challenges to distribution because each compute unit has its own programming model. Ray natively supports heterogeneous hardware to achieve load balancing, coherency, and consistency under the hood. All you need to do is specify hardware when initializing a task or actor. For example, a developer can specify in the same application that a one task needs 128 CPUs, another task only requires 0.5 GPUs, and an actor requires 36 CPUs and 8 GPUs.\n",
    "\n",
    "|<img src=\"https://technical-training-assets.s3.us-west-2.amazonaws.com/Overview_of_Ray/heterogeneous_hardware_code.png\" width=\"60%\" loading=\"lazy\">|\n",
    "|:--|\n",
    "|Easily specify amount of resources needed, by using `num_cpus` and `num_gpus`|\n",
    "\n",
    "An illustrative example is the production [deep learning pipeline at Uber](https://www.anyscale.com/ray-summit-2022/agenda/sessions/215). A heterogeneous setup of 8 GPU nodes and 9 CPU nodes improves the pipeline throughput by 50%, while substantially saving capital cost, compared with the legacy setup of 16 GPU nodes.\n",
    "\n",
    "|<img src=\"https://technical-training-assets.s3.us-west-2.amazonaws.com/Overview_of_Ray/uber.png\" width=\"70%\" loading=\"lazy\">|\n",
    "|:--|\n",
    "|Deep learning pipeline at Uber using a heterogeneous hardware setup with Ray.|"
   ]
  },
  {
   "cell_type": "markdown",
   "metadata": {
    "tags": []
   },
   "source": [
    "### Ray libraries\n",
    "\n",
    "|<img src=\"https://technical-training-assets.s3.us-west-2.amazonaws.com/Overview_of_Ray/map.png\" width=\"70%\" loading=\"lazy\">|\n",
    "|:--|\n",
    "|Stack of Ray libraries - unified toolkit for ML workloads.|\n",
    "\n",
    "There are four layers to Ray's unified compute framework:\n",
    "\n",
    "1. Ray cluster\n",
    "1. Ray Core\n",
    "1. Ray AI Runtime (native libraries)\n",
    "1. Integrations and ecosystem\n",
    "\n",
    "#### Ray cluster\n",
    "\n",
    "<div class=\"alert alert-info\">\n",
    "  <strong><a href=\"https://docs.ray.io/en/latest/cluster/getting-started.html\" target=\"_blank\">Ray cluster</a></strong> is a set of worker nodes connected to a common Ray head node. Ray clusters can be fixed-size, or they can autoscale up and down according to the resources requested by applications running on the cluster.\n",
    "</div>\n",
    "\n",
    "Starting at the bottom with a [cluster](https://docs.ray.io/en/latest/cluster/getting-started.html), Ray sets up and manages clusters of computers so that you can run distributed applications on them. You can deploy a Ray cluster on AWS, GCP or on Kubernetes via the officially supported [KubeRay](https://docs.ray.io/en/latest/cluster/kubernetes/index.html) project. \n",
    "\n",
    "Note: [Anyscale](https://www.anyscale.com/), the company behind Ray, builds enterprise-ready AI compute platform for running and managing Ray applications.\n",
    "\n",
    "#### Ray Core\n",
    "\n",
    "<div class=\"alert alert-info\">\n",
    "  <strong><a href=\"https://docs.ray.io/en/latest/ray-core/walkthrough.html\" target=\"_blank\">Ray Core</a></strong> is an open-source, Python, general purpose, distributed computing library that enables ML engineers and Python developers to scale Python applications and accelerate machine learning workloads.\n",
    "</div>\n",
    "\n",
    "Ray Core is the foundation that Ray's ML libraries (Ray AIR) and third-party integrations (Ray ecosystem) are built on. This library enables Python developers to easily build scalable, distributed systems that can run on a laptop, cluster, cloud or Kubernetes.\n",
    "\n",
    "Expanding on the key abstractions mentioned before:\n",
    "\n",
    "1. [**Tasks**](https://docs.ray.io/en/latest/ray-core/key-concepts.html#tasks). Remote, stateless Python functions.  \n",
    "Ray tasks are arbitrary Python functions that are executed asychronously on separate Python workers on a Ray cluster nodes. Users can specify their resource requirements in terms of CPUs, GPUs, and custom resources which are used by the cluster scheduler to distribute tasks for parallelized execution.\n",
    "\n",
    "2. [**Actors**](https://docs.ray.io/en/latest/ray-core/key-concepts.html#actors). Remote stateful Python classes.  \n",
    "What tasks are to functions, actors are to classes. An actor is a stateful worker, and the methods of an actor are scheduled on that specific worker and can access and mutate the state of that worker. Like tasks, actors support CPU, GPU, and custom resource requirements.\n",
    "\n",
    "3. [**Objects**](https://docs.ray.io/en/latest/ray-core/key-concepts.html#objects). In-memory, immutable objects or values that can be accessed anywhere in the computing cluster.  \n",
    "In Ray, tasks and actors create and compute on objects. These remote objects can be stored anywhere in a Ray cluster. Object References are used to refer to them, and they are cached in Ray's distributed shared memory object store.\n",
    "\n",
    "#### Ray AI Runtime\n",
    "\n",
    "<div class=\"alert alert-info\">\n",
    "  <strong><a href=\"https://docs.ray.io/en/latest/ray-air/getting-started.html\" target=\"_blank\">Ray AI Runtime (AIR)</a></strong> is an open-source, Python, domain-specific set of libraries that equip ML engineers, data scientists, and researchers with a scalable and unified toolkit for ML applications.\n",
    "</div>\n",
    "\n",
    "Ray AIR is built on top of Ray Core and focuses on distributed both individual and end-to-end machine learning workflows.\n",
    "\n",
    "|<img src=\"https://technical-training-assets.s3.us-west-2.amazonaws.com/Introduction_to_Ray_AIR/e2e_air.png\" width=\"70%\" loading=\"lazy\">|\n",
    "|:--|\n",
    "|Ray AIR enables end-to-end ML development and provides multiple options to integrate with other tools and libraries from the MLOps ecosystem.|\n",
    "\n",
    "Each of the five native libraries that Ray AIR wraps distributes a specific ML task:\n",
    "\n",
    "1. [**Ray Data**](https://docs.ray.io/en/latest/data/dataset.html)  \n",
    "Scalable, framework-agnostic data loading and transformation across training, tuning, and prediction.\n",
    "    \n",
    "2. [**Ray Train**](https://docs.ray.io/en/latest/train/train.html)  \n",
    "Distributed multi-node and multi-core model training with fault tolerance that integrates with popular training libraries.\n",
    "\n",
    "3. [**Ray Tune**](https://docs.ray.io/en/latest/tune/index.html)  \n",
    "Scales hyperparameter tuning to optimize model performance.\n",
    "\n",
    "4. [**Ray Serve**](https://docs.ray.io/en/latest/serve/index.html)  \n",
    "Deploys models for online inference, with optional microbatching to improve performance.\n",
    "\n",
    "5. [**Ray RLlib**](https://docs.ray.io/en/latest/rllib/index.html)  \n",
    "Distributed reinforcement learning workloads that integrate with the other Ray AIR libraries.\n",
    "\n",
    "#### Integrations and ecosystem libraries\n",
    "\n",
    "Ray integrates with a [growing ecosystem](https://docs.ray.io/en/latest/ray-overview/ray-libraries.html) of the most popular Python and machine learning libraries and frameworks. Instead of trying to impose a new standards, Ray allows you to scale existing workloads by unifying tools in a common interface. This interface enables you to run ML tasks in a distributed way, a property most of the respective backends don't have, or not to the same extent.\n",
    "\n",
    "Here are a handful of integrations to highlight:\n",
    "\n",
    "* **Ray Datasets**\n",
    "  * [Dask](https://docs.ray.io/en/latest/ray-more-libs/dask-on-ray.html)\n",
    "  * [Pandas/Modin](https://docs.ray.io/en/latest/data/modin/index.html)\n",
    "* **Ray Train and RLlib** \n",
    "  * [Tensorflow](https://docs.ray.io/en/latest/train/api.html#ray.train.tensorflow.TensorflowTrainer)\n",
    "  * [PyTorch](https://docs.ray.io/en/latest/train/api.html#ray.train.torch.TorchTrainer)\n",
    "* **Ray Tune**\n",
    "  * [HyperOpt](https://docs.ray.io/en/latest/tune/examples/hyperopt_example.html)\n",
    "  * [Optuna](https://docs.ray.io/en/latest/tune/examples/optuna_example.html)\n",
    "* **Ray Serve**\n",
    "  * [FastAPI](https://www.anyscale.com/blog/ray-serve-fastapi-the-best-of-both-worlds)\n",
    "  * [gradio](https://docs.ray.io/en/latest/serve/tutorials/gradio-integration.html)"
   ]
  },
  {
   "cell_type": "markdown",
   "metadata": {
    "tags": []
   },
   "source": [
    "### Ray use cases\n",
    "\n",
    "Now that you have a sense of what Ray is in theory, it's important to discuss what makes Ray so useful in practice. In this section, you will encounter the ways that individuals, organizations, and companies leverage Ray to build their AI applications.\n",
    "\n",
    "First, you will explore how Ray scales common ML workloads. Then, you will about some advanced implementations.\n",
    "\n",
    "#### Scaling common ML workloads\n",
    "\n",
    "##### Parallel training of many models\n",
    "When any given model you want to train can fit on a single GPU, then Ray can assign each training run to a separate Ray Task. In this way, all available workers are utilized to run independent remote training rather than one worker running jobs sequentially.\n",
    "\n",
    "|<img src=\"https://technical-training-assets.s3.us-west-2.amazonaws.com/Overview_of_Ray/training_small_models.png\" width=\"70%\" loading=\"lazy\">|\n",
    "|:--|\n",
    "|Data parallelism pattern for distributed training on large datasets.|\n",
    "\n",
    "##### Distributed training of large models\n",
    "In contrast to training many models, model parallelism partitions a large model across many machines for training. Ray Train has built-in abstractions for distributing shards of models and running training in parallel.\n",
    "\n",
    "|<img src=\"https://technical-training-assets.s3.us-west-2.amazonaws.com/Overview_of_Ray/model_parallelism.png\" width=\"70%\" loading=\"lazy\">|\n",
    "|:--|\n",
    "|Model parallelism pattern for distributed large model training.|\n",
    "\n",
    "##### Managing parallel hyperparameter tuning experiments\n",
    "Running multiple hyperparameter tuning experiments is a pattern apt for distributed computing because each experiment is independent of one another. Ray Tune handles the hard bit of distributing hyperparameter optimization and makes available key features such as checkpointing the best result, optimizing scheduling, specifying search patterns, and more.\n",
    "\n",
    "|<img src=\"https://technical-training-assets.s3.us-west-2.amazonaws.com/Overview_of_Ray/tuning_use_case.png\" width=\"70%\" loading=\"lazy\">|\n",
    "|:--|\n",
    "|Distributed tuning with distributed training per trial.|\n",
    "\n",
    "##### Reinforcement learning\n",
    "Ray RLlib offers support for production-level, distributed reinforcement learning workloads while maintaining unified and simple APIs for a large variety of industry applications.\n",
    "\n",
    "|<img src=\"https://technical-training-assets.s3.us-west-2.amazonaws.com/Overview_of_Ray/rllib_use_case.png\" width=\"70%\" loading=\"lazy\">|\n",
    "|:--|\n",
    "|Decentralized distributed proximal polixy optimiation (DD-PPO) architecture, supported by Ray RLLib, where sampling and training are done on worker GPUs.|\n",
    "\n",
    "##### Batch inference on CPUs and GPUs\n",
    "Performing inference on incoming batches of data can be parallelized by exporting the architecture and weights of a trained model to the shared object store. Then, using these model replicas, Ray scales predictions on batches across workers.\n",
    "\n",
    "|<img src=\"https://technical-training-assets.s3.us-west-2.amazonaws.com/Overview_of_Ray/batch_inference.png\" width=\"70%\" loading=\"lazy\">|\n",
    "|:--|\n",
    "|Using Ray AIR's `BatchPredictor` for batch inference.|\n",
    "\n",
    "##### Multi-model composition for model serving\n",
    "\n",
    "[Ray Serve](https://docs.ray.io/en/latest/serve/index.html) supports complex [model deployment patterns](https://www.youtube.com/watch?v=mM4hJLelzSw) requiring the orchestration of multiple Ray actors, where different actors provide inference for different models. Serve handles both batch and online inference and can scale to thousands of models in production.\n",
    "\n",
    "|<img src=\"https://technical-training-assets.s3.us-west-2.amazonaws.com/Overview_of_Ray/multi_model_serve.png\" width=\"70%\" loading=\"lazy\">|\n",
    "|:--|\n",
    "|Deployment patterns with Ray Serve.|\n",
    "\n",
    "##### ML platform\n",
    "\n",
    "[Merlin](https://shopify.engineering/merlin-shopify-machine-learning-platform) is Shopify's ML platform built on Ray. It enables fast-iteration and [scaling of distributed applications](https://www.youtube.com/watch?v=kbvzvdKH7bc) such as product categorization and recommendations.\n",
    "\n",
    "|<img src=\"https://technical-training-assets.s3.us-west-2.amazonaws.com/Overview_of_Ray/shopify.png\" width=\"70%\" loading=\"lazy\">|\n",
    "|:--|\n",
    "|Merlin architecture built on Ray.|\n",
    "\n",
    "Spotify [uses Ray for advanced applications](https://www.anyscale.com/ray-summit-2022/agenda/sessions/180) that include personalizing content recommendations for home podcasts and personalizing Spotify Radio track sequencing.\n",
    "\n",
    "|<img src=\"https://technical-training-assets.s3.us-west-2.amazonaws.com/Overview_of_Ray/spotify.png\" width=\"70%\" loading=\"lazy\">|\n",
    "|:--|\n",
    "|How Ray ecosystem empowers ML scientists and engineers at Spotify.|\n",
    "\n",
    "#### Implementing advanced ML workloads\n",
    "\n",
    "##### Alpa - training very large models with Ray\n",
    "\n",
    "[Alpa](https://ai.googleblog.com/2022/05/alpa-automated-model-parallel-deep.html) is a Ray-native library that automatically partitions, schedules, and executes the training and serving computation of [very large deep learning models](https://www.anyscale.com/ray-summit-2022/agenda/sessions/170) on hundreds of GPUs.\n",
    "\n",
    "|<img src=\"https://technical-training-assets.s3.us-west-2.amazonaws.com/Overview_of_Ray/alpa.png\" width=\"70%\" loading=\"lazy\">|\n",
    "|:--|\n",
    "|Parallelization plans for a computational graph from Alpa. A, B, C, and D are operators. Each color represents a different device (i.e. GPU) executing a partition or the full operator leveraging Ray actors.|\n",
    "\n",
    "##### Exoshuffle - large scale data shuffling\n",
    "\n",
    "In Ray 2.0, [Exoshuffle](https://cs.paperswithcode.com/paper/exoshuffle-large-scale-shuffle-at-the) is integrated with the Ray Data to provide an application level shuffle system that [outperforms Spark](https://www.anyscale.com/ray-summit-2022/agenda/sessions/220) and achieves 82% of theoretical performance on a 100TB sort on 100 nodes.\n",
    "\n",
    "|<img src=\"https://technical-training-assets.s3.us-west-2.amazonaws.com/Overview_of_Ray/exoshuffle.png\" width=\"70%\" loading=\"lazy\">|\n",
    "|:--|\n",
    "|Shuffle on Ray architecture diagram.|\n",
    "\n",
    "##### Hamilton - feature engineering\n",
    "\n",
    "[Hamilton](https://github.com/stitchfix/hamilton) is an open source dataflow micro-framework that manages feature engineering for time series forecasting. Developed at [StitchFix](https://www.anyscale.com/ray-summit-2022/agenda/sessions/115), this library provides scalable parallelism, where each Hamilton function is distributed and data is limited by machine memory.\n",
    "\n",
    "|<img src=\"https://technical-training-assets.s3.us-west-2.amazonaws.com/Overview_of_Ray/stitchfix.png\" width=\"70%\" loading=\"lazy\">|\n",
    "|:--|\n",
    "|Hamilton architecture on Ray clusters.|\n",
    "\n",
    "##### Riot Games - reinforcement learning\n",
    "\n",
    "Riot Games uses [Ray to build bots](https://www.anyscale.com/ray-summit-2022/agenda/sessions/148) that play new battles at various skill levels. These reinforcement learning agents provide additional signals to their designers to deliver the best experiences for players.\n",
    "\n",
    "|<img src=\"https://technical-training-assets.s3.us-west-2.amazonaws.com/Overview_of_Ray/riot.png\" width=\"70%\" loading=\"lazy\">|\n",
    "|:--|\n",
    "|Riot reinforcement learning workflow on Ray including data transformation and training.|"
   ]
  },
  {
   "cell_type": "markdown",
   "metadata": {},
   "source": [
    "### Summary of Part 1\n",
    "\n",
    "|<img src=\"https://technical-training-assets.s3.us-west-2.amazonaws.com/Overview_of_Ray/map_layers_only.png\" width=\"70%\" loading=\"lazy\">|\n",
    "|:--|\n",
    "|Stack of Ray libraries - unified toolkit for ML workloads.|\n",
    "\n",
    "To review, this section has covered the following topics:\n",
    "\n",
    "* Introduction to the Ray project\n",
    "* Key characteristics of Ray\n",
    "* The three layers of Ray\n",
    "    * Ray Core\n",
    "    * Native libraries\n",
    "    * Ecosystem of integrations\n",
    "* Common Ray use cases\n",
    "\n",
    "#### Concepts\n",
    "\n",
    "Key concepts introduced in Part 1:\n",
    "\n",
    "<div class=\"alert alert-info\">\n",
    "  <strong><a href=\"https://www.ray.io/\" target=\"_blank\">Ray</a></strong> is an open-source unified compute framework that makes it easy to scale AI and Python workloads.\n",
    "</div>\n",
    "\n",
    "<div class=\"alert alert-info\">\n",
    "  <strong><a href=\"https://docs.ray.io/en/latest/cluster/getting-started.html\" target=\"_blank\">Ray clusters</a></strong> are a set of worker nodes connected to a common Ray head node. Ray clusters can be fixed-size, or they can autoscale up and down according to the resources requested by applications running on the cluster.\n",
    "</div>\n",
    "\n",
    "<div class=\"alert alert-info\">\n",
    "  <strong><a href=\"https://docs.ray.io/en/latest/ray-core/walkthrough.html\" target=\"_blank\">Ray Core</a></strong> is an open-source, Python, general purpose, distributed computing library that enables ML engineers and Python developers to accelerate machine learning workloads and scale Python applications.\n",
    "</div>\n",
    "\n",
    "<div class=\"alert alert-info\">\n",
    "  <strong><a href=\"https://docs.ray.io/en/latest/ray-air/getting-started.html\" target=\"_blank\">Ray AI Runtime (AIR)</a></strong> is an open-source, Python, domain specific library that equips ML engineers, data scientists, and researchers with a scalable and unified toolkit for ML applications.\n",
    "</div>\n",
    "\n",
    "#### APIs and technical abstractions\n",
    "\n",
    "Three Ray Core abstractions that enable parallel computation:\n",
    "\n",
    "1. [**Tasks**](https://docs.ray.io/en/latest/ray-core/key-concepts.html#tasks). Remote, stateless Python functions\n",
    "1. [**Actors**](https://docs.ray.io/en/latest/ray-core/key-concepts.html#actors). Remote, stateful Python classes\n",
    "1. [**Objects**](https://docs.ray.io/en/latest/ray-core/key-concepts.html#objects). Tasks and actors create and compute on objects that can be stored and accessed anywhere in the cluster; cached in Ray's distributed [shared-memory](https://en.wikipedia.org/wiki/Shared_memory) object store\n",
    "\n",
    "#### What's next?\n",
    "\n",
    "Apply Ray concepts by running an illustrative code example that will demonstrate how to distribute a simple application."
   ]
  },
  {
   "cell_type": "markdown",
   "metadata": {},
   "source": [
    "## Part 2: Hands-on code example - scaling regression with Ray Core"
   ]
  },
  {
   "cell_type": "markdown",
   "metadata": {},
   "source": [
    "### Introduction\n",
    "\n",
    "To gain a better feel for Ray, this section will scale a bare bones version of a common ML task: regression on structured data.\n",
    "\n",
    "#### Data\n",
    "\n",
    "You will be performing regression on the [California House Prices](https://scikit-learn.org/stable/datasets/real_world.html#california-housing-dataset) dataset made available by scikit-learn.\n",
    "\n",
    "|<img src=\"https://technical-training-assets.s3.us-west-2.amazonaws.com/Overview_of_Ray/California_dataset.png\" width=\"80%\" loading=\"lazy\">|\n",
    "|:--|\n",
    "|`n_samples = 20640`, target is numeric and corresponds to the average house value in units of 100k.|\n",
    "\n",
    "#### Model and task\n",
    "\n",
    "You will train and score [random forest](https://scikit-learn.org/stable/modules/generated/sklearn.ensemble.RandomForestRegressor.html) models using [mean squared error](https://scikit-learn.org/stable/modules/generated/sklearn.metrics.mean_squared_error.html) as the metric.\n",
    "\n",
    "In a lightweight version of hyperparameter tuning, you will be training many models with varying values of `n_estimators`. First, you will encounter a sequential version of model training where each experiment executes in series one after another. Then, you will distribute these training runs with Ray Core to achieve better performance and faster model training."
   ]
  },
  {
   "cell_type": "markdown",
   "metadata": {},
   "source": [
    "### Sequential implementation\n",
    "\n",
    "Starting with a familiar implementation, an assortment of random forest models are trained one by one sequentially as depicted in the diagram below.\n",
    "\n",
    "|<img src=\"https://technical-training-assets.s3.us-west-2.amazonaws.com/Overview_of_Ray/sequential_timeline.png\" width=\"70%\" loading=\"lazy\">|\n",
    "|:--|\n",
    "|Timeline of sequential tasks all on one worker. Each \"task\" in this case is training a random forest model.|"
   ]
  },
  {
   "cell_type": "markdown",
   "metadata": {},
   "source": [
    "#### Preliminaries"
   ]
  },
  {
   "cell_type": "code",
   "execution_count": 1,
   "metadata": {},
   "outputs": [],
   "source": [
    "import time\n",
    "from operator import itemgetter\n",
    "\n",
    "import pandas as pd\n",
    "from sklearn.datasets import fetch_california_housing\n",
    "from sklearn.ensemble import RandomForestRegressor\n",
    "from sklearn.metrics import mean_squared_error\n",
    "from sklearn.model_selection import train_test_split"
   ]
  },
  {
   "cell_type": "markdown",
   "metadata": {},
   "source": [
    "#### Prepare dataset"
   ]
  },
  {
   "cell_type": "code",
   "execution_count": 2,
   "metadata": {},
   "outputs": [],
   "source": [
    "X, y = fetch_california_housing(return_X_y=True, as_frame=True)\n",
    "X_train, X_test, y_train, y_test = train_test_split(\n",
    "    X, y, test_size=0.2, random_state=201\n",
    ")"
   ]
  },
  {
   "cell_type": "code",
   "execution_count": 3,
   "metadata": {},
   "outputs": [
    {
     "data": {
      "text/html": [
       "<div>\n",
       "<style scoped>\n",
       "    .dataframe tbody tr th:only-of-type {\n",
       "        vertical-align: middle;\n",
       "    }\n",
       "\n",
       "    .dataframe tbody tr th {\n",
       "        vertical-align: top;\n",
       "    }\n",
       "\n",
       "    .dataframe thead th {\n",
       "        text-align: right;\n",
       "    }\n",
       "</style>\n",
       "<table border=\"1\" class=\"dataframe\">\n",
       "  <thead>\n",
       "    <tr style=\"text-align: right;\">\n",
       "      <th></th>\n",
       "      <th>MedInc</th>\n",
       "      <th>HouseAge</th>\n",
       "      <th>AveRooms</th>\n",
       "      <th>AveBedrms</th>\n",
       "      <th>Population</th>\n",
       "      <th>AveOccup</th>\n",
       "      <th>Latitude</th>\n",
       "      <th>Longitude</th>\n",
       "    </tr>\n",
       "  </thead>\n",
       "  <tbody>\n",
       "    <tr>\n",
       "      <th>0</th>\n",
       "      <td>8.3252</td>\n",
       "      <td>41.0</td>\n",
       "      <td>6.984127</td>\n",
       "      <td>1.023810</td>\n",
       "      <td>322.0</td>\n",
       "      <td>2.555556</td>\n",
       "      <td>37.88</td>\n",
       "      <td>-122.23</td>\n",
       "    </tr>\n",
       "    <tr>\n",
       "      <th>1</th>\n",
       "      <td>8.3014</td>\n",
       "      <td>21.0</td>\n",
       "      <td>6.238137</td>\n",
       "      <td>0.971880</td>\n",
       "      <td>2401.0</td>\n",
       "      <td>2.109842</td>\n",
       "      <td>37.86</td>\n",
       "      <td>-122.22</td>\n",
       "    </tr>\n",
       "    <tr>\n",
       "      <th>2</th>\n",
       "      <td>7.2574</td>\n",
       "      <td>52.0</td>\n",
       "      <td>8.288136</td>\n",
       "      <td>1.073446</td>\n",
       "      <td>496.0</td>\n",
       "      <td>2.802260</td>\n",
       "      <td>37.85</td>\n",
       "      <td>-122.24</td>\n",
       "    </tr>\n",
       "    <tr>\n",
       "      <th>3</th>\n",
       "      <td>5.6431</td>\n",
       "      <td>52.0</td>\n",
       "      <td>5.817352</td>\n",
       "      <td>1.073059</td>\n",
       "      <td>558.0</td>\n",
       "      <td>2.547945</td>\n",
       "      <td>37.85</td>\n",
       "      <td>-122.25</td>\n",
       "    </tr>\n",
       "    <tr>\n",
       "      <th>4</th>\n",
       "      <td>3.8462</td>\n",
       "      <td>52.0</td>\n",
       "      <td>6.281853</td>\n",
       "      <td>1.081081</td>\n",
       "      <td>565.0</td>\n",
       "      <td>2.181467</td>\n",
       "      <td>37.85</td>\n",
       "      <td>-122.25</td>\n",
       "    </tr>\n",
       "  </tbody>\n",
       "</table>\n",
       "</div>"
      ],
      "text/plain": [
       "   MedInc  HouseAge  AveRooms  AveBedrms  Population  AveOccup  Latitude  \\\n",
       "0  8.3252      41.0  6.984127   1.023810       322.0  2.555556     37.88   \n",
       "1  8.3014      21.0  6.238137   0.971880      2401.0  2.109842     37.86   \n",
       "2  7.2574      52.0  8.288136   1.073446       496.0  2.802260     37.85   \n",
       "3  5.6431      52.0  5.817352   1.073059       558.0  2.547945     37.85   \n",
       "4  3.8462      52.0  6.281853   1.081081       565.0  2.181467     37.85   \n",
       "\n",
       "   Longitude  \n",
       "0    -122.23  \n",
       "1    -122.22  \n",
       "2    -122.24  \n",
       "3    -122.25  \n",
       "4    -122.25  "
      ]
     },
     "execution_count": 3,
     "metadata": {},
     "output_type": "execute_result"
    }
   ],
   "source": [
    "X.head(n=5)"
   ]
  },
  {
   "cell_type": "markdown",
   "metadata": {},
   "source": [
    "#### Set number of models to train"
   ]
  },
  {
   "cell_type": "code",
   "execution_count": 4,
   "metadata": {},
   "outputs": [],
   "source": [
    "# You will use NUM_MODELS as a benchmark to compare performance\n",
    "# across sequential and parallel implementations.\n",
    "\n",
    "NUM_MODELS = 20"
   ]
  },
  {
   "cell_type": "markdown",
   "metadata": {},
   "source": [
    "#### Implement function to train and score model"
   ]
  },
  {
   "cell_type": "code",
   "execution_count": 5,
   "metadata": {},
   "outputs": [],
   "source": [
    "def train_and_score_model(\n",
    "    train_set: pd.DataFrame,\n",
    "    test_set: pd.DataFrame,\n",
    "    train_labels: pd.Series,\n",
    "    test_labels: pd.Series,\n",
    "    n_estimators: int,\n",
    ") -> tuple[int, float]:\n",
    "    start_time = time.time()  # measure wall time for single model training\n",
    "\n",
    "    model = RandomForestRegressor(n_estimators=n_estimators, random_state=201)\n",
    "    model.fit(train_set, train_labels)\n",
    "    y_pred = model.predict(test_set)\n",
    "    score = mean_squared_error(test_labels, y_pred)\n",
    "\n",
    "    time_delta = time.time() - start_time\n",
    "    print(\n",
    "        f\"n_estimators={n_estimators}, mse={score:.4f}, took: {time_delta:.2f} seconds\"\n",
    "    )\n",
    "\n",
    "    return n_estimators, score"
   ]
  },
  {
   "cell_type": "markdown",
   "metadata": {},
   "source": [
    "This function takes data, creates a `RandomForestRegressor` model, trains it and scores the model on the test set.\n",
    "\n",
    "`train_and_score_model` returns a tuple:\n",
    "```\n",
    "(n_estimators, mse_score)\n",
    "```\n",
    "\n",
    "For example:\n",
    "\n",
    "```\n",
    "(8, 0.2983)\n",
    "```"
   ]
  },
  {
   "cell_type": "markdown",
   "metadata": {},
   "source": [
    "#### Implement function that runs **sequential** model training"
   ]
  },
  {
   "cell_type": "code",
   "execution_count": 6,
   "metadata": {},
   "outputs": [],
   "source": [
    "def run_sequential(n_models: int) -> list[tuple[int, float]]:\n",
    "    return [\n",
    "        train_and_score_model(\n",
    "            train_set=X_train,\n",
    "            test_set=X_test,\n",
    "            train_labels=y_train,\n",
    "            test_labels=y_test,\n",
    "            n_estimators=8 + 4 * j,\n",
    "        )\n",
    "        for j in range(n_models)\n",
    "    ]"
   ]
  },
  {
   "cell_type": "markdown",
   "metadata": {},
   "source": [
    "This function trains `n_models` sequentially for an increasing number of `n_estimators` (increasing by 4 for each model, e.g. 8, 12, 16, 20, ...). \n",
    "\n",
    "`run_sequential` returns a list of tuples:\n",
    "```\n",
    "[(n_estimators, mse_score), (n_estimators, mse_score), ...]\n",
    "```\n",
    "\n",
    "For example:\n",
    "\n",
    "```\n",
    "[(8, 0.2983), (12, 0.2826), (16, 0.2761), (24, 0.2694)]\n",
    "```"
   ]
  },
  {
   "cell_type": "markdown",
   "metadata": {},
   "source": [
    "#### Run sequential model training "
   ]
  },
  {
   "cell_type": "code",
   "execution_count": 7,
   "metadata": {},
   "outputs": [
    {
     "name": "stdout",
     "output_type": "stream",
     "text": [
      "n_estimators=8, mse=0.2983, took: 1.01 seconds\n",
      "n_estimators=12, mse=0.2826, took: 1.45 seconds\n",
      "n_estimators=16, mse=0.2761, took: 1.98 seconds\n",
      "n_estimators=20, mse=0.2716, took: 2.39 seconds\n",
      "n_estimators=24, mse=0.2694, took: 3.10 seconds\n",
      "n_estimators=28, mse=0.2686, took: 3.52 seconds\n",
      "n_estimators=32, mse=0.2662, took: 4.61 seconds\n",
      "n_estimators=36, mse=0.2663, took: 4.55 seconds\n",
      "n_estimators=40, mse=0.2635, took: 5.04 seconds\n",
      "n_estimators=44, mse=0.2622, took: 5.61 seconds\n",
      "n_estimators=48, mse=0.2616, took: 6.06 seconds\n",
      "n_estimators=52, mse=0.2609, took: 6.50 seconds\n",
      "n_estimators=56, mse=0.2615, took: 7.03 seconds\n",
      "n_estimators=60, mse=0.2608, took: 7.18 seconds\n",
      "n_estimators=64, mse=0.2614, took: 7.68 seconds\n",
      "n_estimators=68, mse=0.2616, took: 8.17 seconds\n",
      "n_estimators=72, mse=0.2617, took: 8.58 seconds\n",
      "n_estimators=76, mse=0.2614, took: 9.07 seconds\n",
      "n_estimators=80, mse=0.2607, took: 9.58 seconds\n",
      "n_estimators=84, mse=0.2601, took: 10.34 seconds\n",
      "CPU times: user 1min 48s, sys: 1.84 s, total: 1min 50s\n",
      "Wall time: 1min 53s\n"
     ]
    }
   ],
   "source": [
    "%%time\n",
    "\n",
    "mse_scores = run_sequential(n_models=NUM_MODELS)"
   ]
  },
  {
   "cell_type": "markdown",
   "metadata": {},
   "source": [
    "Note: wall time on an M1 MacBook Pro: 1min (60s)."
   ]
  },
  {
   "cell_type": "markdown",
   "metadata": {},
   "source": [
    "#### Analyze results"
   ]
  },
  {
   "cell_type": "code",
   "execution_count": 8,
   "metadata": {},
   "outputs": [
    {
     "name": "stdout",
     "output_type": "stream",
     "text": [
      "Best model: mse=0.2601, n_estimators=84\n"
     ]
    }
   ],
   "source": [
    "best = min(mse_scores, key=itemgetter(1))\n",
    "print(f\"Best model: mse={best[1]:.4f}, n_estimators={best[0]}\")"
   ]
  },
  {
   "cell_type": "markdown",
   "metadata": {},
   "source": [
    "Looking at the results of training, make a note on how long training `NUM_MODELS` sequentially took. Continue on to the next section to learn about how to improve runtime by distributing this task."
   ]
  },
  {
   "cell_type": "markdown",
   "metadata": {},
   "source": [
    "### Parallel implementation\n",
    "\n",
    "In contrast to the previous approach, you will now utilize all available resources to train these models in parallel. Ray will automatically detect the number of cores on your computer or the amount of resources in a cluster to distribute each defined task.\n",
    "\n",
    "The diagram below offers an intuition for how tasks are assigned and executed in a parallel approach. You will notice that this introduces a scheduler which is responsible for managing incoming requests, assigning nodes, and detecting available resources.\n",
    "\n",
    "|<img src=\"https://technical-training-assets.s3.us-west-2.amazonaws.com/Overview_of_Ray/distributed_timeline.png\" width=\"80%\" loading=\"lazy\">|\n",
    "|:--|\n",
    "|A generic timeline with ten tasks running across 4 workers in parallel, with minor overhead from the scheduler.|"
   ]
  },
  {
   "cell_type": "markdown",
   "metadata": {},
   "source": [
    "#### Initialize Ray runtime"
   ]
  },
  {
   "cell_type": "code",
   "execution_count": 9,
   "metadata": {},
   "outputs": [
    {
     "name": "stderr",
     "output_type": "stream",
     "text": [
      "2024-07-20 11:15:14,195\tINFO worker.py:1529 -- Started a local Ray instance. View the dashboard at \u001b[1m\u001b[32m127.0.0.1:8265 \u001b[39m\u001b[22m\n"
     ]
    },
    {
     "data": {
      "text/html": [
       "<div>\n",
       "    <div style=\"margin-left: 50px;display: flex;flex-direction: row;align-items: center\">\n",
       "        <h3 style=\"color: var(--jp-ui-font-color0)\">Ray</h3>\n",
       "        <svg version=\"1.1\" id=\"ray\" width=\"3em\" viewBox=\"0 0 144.5 144.6\" style=\"margin-left: 3em;margin-right: 3em\">\n",
       "            <g id=\"layer-1\">\n",
       "                <path fill=\"#00a2e9\" class=\"st0\" d=\"M97.3,77.2c-3.8-1.1-6.2,0.9-8.3,5.1c-3.5,6.8-9.9,9.9-17.4,9.6S58,88.1,54.8,81.2c-1.4-3-3-4-6.3-4.1\n",
       "                    c-5.6-0.1-9.9,0.1-13.1,6.4c-3.8,7.6-13.6,10.2-21.8,7.6C5.2,88.4-0.4,80.5,0,71.7c0.1-8.4,5.7-15.8,13.8-18.2\n",
       "                    c8.4-2.6,17.5,0.7,22.3,8c1.3,1.9,1.3,5.2,3.6,5.6c3.9,0.6,8,0.2,12,0.2c1.8,0,1.9-1.6,2.4-2.8c3.5-7.8,9.7-11.8,18-11.9\n",
       "                    c8.2-0.1,14.4,3.9,17.8,11.4c1.3,2.8,2.9,3.6,5.7,3.3c1-0.1,2,0.1,3,0c2.8-0.5,6.4,1.7,8.1-2.7s-2.3-5.5-4.1-7.5\n",
       "                    c-5.1-5.7-10.9-10.8-16.1-16.3C84,38,81.9,37.1,78,38.3C66.7,42,56.2,35.7,53,24.1C50.3,14,57.3,2.8,67.7,0.5\n",
       "                    C78.4-2,89,4.7,91.5,15.3c0.1,0.3,0.1,0.5,0.2,0.8c0.7,3.4,0.7,6.9-0.8,9.8c-1.7,3.2-0.8,5,1.5,7.2c6.7,6.5,13.3,13,19.8,19.7\n",
       "                    c1.8,1.8,3,2.1,5.5,1.2c9.1-3.4,17.9-0.6,23.4,7c4.8,6.9,4.6,16.1-0.4,22.9c-5.4,7.2-14.2,9.9-23.1,6.5c-2.3-0.9-3.5-0.6-5.1,1.1\n",
       "                    c-6.7,6.9-13.6,13.7-20.5,20.4c-1.8,1.8-2.5,3.2-1.4,5.9c3.5,8.7,0.3,18.6-7.7,23.6c-7.9,5-18.2,3.8-24.8-2.9\n",
       "                    c-6.4-6.4-7.4-16.2-2.5-24.3c4.9-7.8,14.5-11,23.1-7.8c3,1.1,4.7,0.5,6.9-1.7C91.7,98.4,98,92.3,104.2,86c1.6-1.6,4.1-2.7,2.6-6.2\n",
       "                    c-1.4-3.3-3.8-2.5-6.2-2.6C99.8,77.2,98.9,77.2,97.3,77.2z M72.1,29.7c5.5,0.1,9.9-4.3,10-9.8c0-0.1,0-0.2,0-0.3\n",
       "                    C81.8,14,77,9.8,71.5,10.2c-5,0.3-9,4.2-9.3,9.2c-0.2,5.5,4,10.1,9.5,10.3C71.8,29.7,72,29.7,72.1,29.7z M72.3,62.3\n",
       "                    c-5.4-0.1-9.9,4.2-10.1,9.7c0,0.2,0,0.3,0,0.5c0.2,5.4,4.5,9.7,9.9,10c5.1,0.1,9.9-4.7,10.1-9.8c0.2-5.5-4-10-9.5-10.3\n",
       "                    C72.6,62.3,72.4,62.3,72.3,62.3z M115,72.5c0.1,5.4,4.5,9.7,9.8,9.9c5.6-0.2,10-4.8,10-10.4c-0.2-5.4-4.6-9.7-10-9.7\n",
       "                    c-5.3-0.1-9.8,4.2-9.9,9.5C115,72.1,115,72.3,115,72.5z M19.5,62.3c-5.4,0.1-9.8,4.4-10,9.8c-0.1,5.1,5.2,10.4,10.2,10.3\n",
       "                    c5.6-0.2,10-4.9,9.8-10.5c-0.1-5.4-4.5-9.7-9.9-9.6C19.6,62.3,19.5,62.3,19.5,62.3z M71.8,134.6c5.9,0.2,10.3-3.9,10.4-9.6\n",
       "                    c0.5-5.5-3.6-10.4-9.1-10.8c-5.5-0.5-10.4,3.6-10.8,9.1c0,0.5,0,0.9,0,1.4c-0.2,5.3,4,9.8,9.3,10\n",
       "                    C71.6,134.6,71.7,134.6,71.8,134.6z\"/>\n",
       "            </g>\n",
       "        </svg>\n",
       "        <table>\n",
       "            <tr>\n",
       "                <td style=\"text-align: left\"><b>Python version:</b></td>\n",
       "                <td style=\"text-align: left\"><b>3.9.13</b></td>\n",
       "            </tr>\n",
       "            <tr>\n",
       "                <td style=\"text-align: left\"><b>Ray version:</b></td>\n",
       "                <td style=\"text-align: left\"><b> 2.2.0</b></td>\n",
       "            </tr>\n",
       "            <tr>\n",
       "    <td style=\"text-align: left\"><b>Dashboard:</b></td>\n",
       "    <td style=\"text-align: left\"><b><a href=\"http://127.0.0.1:8265\" target=\"_blank\">http://127.0.0.1:8265</a></b></td>\n",
       "</tr>\n",
       "\n",
       "        </table>\n",
       "    </div>\n",
       "</div>\n"
      ],
      "text/plain": [
       "RayContext(dashboard_url='127.0.0.1:8265', python_version='3.9.13', ray_version='2.2.0', ray_commit='b6af0887ee5f2e460202133791ad941a41f15beb', address_info={'node_ip_address': '127.0.0.1', 'raylet_ip_address': '127.0.0.1', 'redis_address': None, 'object_store_address': '/tmp/ray/session_2024-07-20_11-15-07_376227_50428/sockets/plasma_store', 'raylet_socket_name': '/tmp/ray/session_2024-07-20_11-15-07_376227_50428/sockets/raylet', 'webui_url': '127.0.0.1:8265', 'session_dir': '/tmp/ray/session_2024-07-20_11-15-07_376227_50428', 'metrics_export_port': 63098, 'gcs_address': '127.0.0.1:61980', 'address': '127.0.0.1:61980', 'dashboard_agent_listen_port': 52365, 'node_id': '2131194a7b1f544379cdb3f4c13738fd199c796bbe680e491f6c51cd'})"
      ]
     },
     "execution_count": 9,
     "metadata": {},
     "output_type": "execute_result"
    }
   ],
   "source": [
    "import ray\n",
    "\n",
    "if ray.is_initialized:\n",
    "    ray.shutdown()\n",
    "\n",
    "ray.init()"
   ]
  },
  {
   "cell_type": "markdown",
   "metadata": {},
   "source": [
    "Begin by running `ray.init()` to start a fresh Ray cluster and take a look at some useful information:\n",
    "\n",
    "* Python version\n",
    "* Ray version\n",
    "* Link to Ray Dashboard: an observability tool that provides insight into what Ray is doing via helpful metrics and charts"
   ]
  },
  {
   "cell_type": "markdown",
   "metadata": {},
   "source": [
    "#### Put data in the object store\n",
    "\n",
    "|<img src=\"https://technical-training-assets.s3.us-west-2.amazonaws.com/Overview_of_Ray/object_store.png\" width=\"70%\" loading=\"lazy\">|\n",
    "|:--|\n",
    "|Workers use `ray.put()` to place objects and use `ray.get()` to retrieve them from each node's object store. These object stores form the shared distributed memory that makes objects available across a Ray cluster.|\n",
    "\n",
    "In a distributed system, object references are pointers to objects in memory. Object references can be used to access objects that are stored on different machines, allowing them to communicate with each other and share data."
   ]
  },
  {
   "cell_type": "code",
   "execution_count": 10,
   "metadata": {},
   "outputs": [],
   "source": [
    "X_train_ref = ray.put(X_train)\n",
    "X_test_ref = ray.put(X_test)\n",
    "y_train_ref = ray.put(y_train)\n",
    "y_test_ref = ray.put(y_test)"
   ]
  },
  {
   "cell_type": "markdown",
   "metadata": {},
   "source": [
    "By placing the training and testing data into Ray's object store, these objects are now available to all remote tasks and actors in the cluster."
   ]
  },
  {
   "cell_type": "markdown",
   "metadata": {},
   "source": [
    "**Coding Exercise**\n",
    "\n",
    "To practice working with object references, use the cell below to:\n",
    "\n",
    "1. Print what `X_train_ref` looks like.\n",
    "2. Retrieve `X_train` by using `ray.get()` on the object reference.\n",
    "\n",
    "An example Object Reference looks like this:\n",
    "\n",
    "`ObjectRef(00ffffffffffffffffffffffffffffffffffffff0100000002000000)`"
   ]
  },
  {
   "cell_type": "code",
   "execution_count": 12,
   "metadata": {},
   "outputs": [
    {
     "name": "stdout",
     "output_type": "stream",
     "text": [
      "ObjectRef(00ffffffffffffffffffffffffffffffffffffff0100000001000000)\n"
     ]
    },
    {
     "data": {
      "text/html": [
       "<div>\n",
       "<style scoped>\n",
       "    .dataframe tbody tr th:only-of-type {\n",
       "        vertical-align: middle;\n",
       "    }\n",
       "\n",
       "    .dataframe tbody tr th {\n",
       "        vertical-align: top;\n",
       "    }\n",
       "\n",
       "    .dataframe thead th {\n",
       "        text-align: right;\n",
       "    }\n",
       "</style>\n",
       "<table border=\"1\" class=\"dataframe\">\n",
       "  <thead>\n",
       "    <tr style=\"text-align: right;\">\n",
       "      <th></th>\n",
       "      <th>MedInc</th>\n",
       "      <th>HouseAge</th>\n",
       "      <th>AveRooms</th>\n",
       "      <th>AveBedrms</th>\n",
       "      <th>Population</th>\n",
       "      <th>AveOccup</th>\n",
       "      <th>Latitude</th>\n",
       "      <th>Longitude</th>\n",
       "    </tr>\n",
       "  </thead>\n",
       "  <tbody>\n",
       "    <tr>\n",
       "      <th>19262</th>\n",
       "      <td>3.8750</td>\n",
       "      <td>20.0</td>\n",
       "      <td>5.838000</td>\n",
       "      <td>1.016000</td>\n",
       "      <td>1711.0</td>\n",
       "      <td>3.422000</td>\n",
       "      <td>38.44</td>\n",
       "      <td>-122.73</td>\n",
       "    </tr>\n",
       "    <tr>\n",
       "      <th>4083</th>\n",
       "      <td>4.3036</td>\n",
       "      <td>36.0</td>\n",
       "      <td>5.065630</td>\n",
       "      <td>1.069085</td>\n",
       "      <td>1115.0</td>\n",
       "      <td>1.925734</td>\n",
       "      <td>34.15</td>\n",
       "      <td>-118.38</td>\n",
       "    </tr>\n",
       "    <tr>\n",
       "      <th>19500</th>\n",
       "      <td>3.1857</td>\n",
       "      <td>24.0</td>\n",
       "      <td>4.902494</td>\n",
       "      <td>1.040816</td>\n",
       "      <td>1468.0</td>\n",
       "      <td>3.328798</td>\n",
       "      <td>37.67</td>\n",
       "      <td>-121.03</td>\n",
       "    </tr>\n",
       "    <tr>\n",
       "      <th>9062</th>\n",
       "      <td>3.2500</td>\n",
       "      <td>32.0</td>\n",
       "      <td>5.220884</td>\n",
       "      <td>0.939759</td>\n",
       "      <td>712.0</td>\n",
       "      <td>2.859438</td>\n",
       "      <td>34.69</td>\n",
       "      <td>-118.15</td>\n",
       "    </tr>\n",
       "    <tr>\n",
       "      <th>1196</th>\n",
       "      <td>2.6607</td>\n",
       "      <td>22.0</td>\n",
       "      <td>6.508021</td>\n",
       "      <td>1.197861</td>\n",
       "      <td>537.0</td>\n",
       "      <td>2.871658</td>\n",
       "      <td>39.34</td>\n",
       "      <td>-121.67</td>\n",
       "    </tr>\n",
       "    <tr>\n",
       "      <th>...</th>\n",
       "      <td>...</td>\n",
       "      <td>...</td>\n",
       "      <td>...</td>\n",
       "      <td>...</td>\n",
       "      <td>...</td>\n",
       "      <td>...</td>\n",
       "      <td>...</td>\n",
       "      <td>...</td>\n",
       "    </tr>\n",
       "    <tr>\n",
       "      <th>9082</th>\n",
       "      <td>4.1667</td>\n",
       "      <td>12.0</td>\n",
       "      <td>6.741713</td>\n",
       "      <td>1.109116</td>\n",
       "      <td>2188.0</td>\n",
       "      <td>3.022099</td>\n",
       "      <td>34.69</td>\n",
       "      <td>-118.17</td>\n",
       "    </tr>\n",
       "    <tr>\n",
       "      <th>1891</th>\n",
       "      <td>3.3295</td>\n",
       "      <td>17.0</td>\n",
       "      <td>6.144444</td>\n",
       "      <td>1.150000</td>\n",
       "      <td>466.0</td>\n",
       "      <td>2.588889</td>\n",
       "      <td>38.92</td>\n",
       "      <td>-120.00</td>\n",
       "    </tr>\n",
       "    <tr>\n",
       "      <th>501</th>\n",
       "      <td>2.2841</td>\n",
       "      <td>52.0</td>\n",
       "      <td>4.350649</td>\n",
       "      <td>1.077922</td>\n",
       "      <td>152.0</td>\n",
       "      <td>1.974026</td>\n",
       "      <td>37.85</td>\n",
       "      <td>-122.27</td>\n",
       "    </tr>\n",
       "    <tr>\n",
       "      <th>7680</th>\n",
       "      <td>4.0774</td>\n",
       "      <td>35.0</td>\n",
       "      <td>5.225389</td>\n",
       "      <td>0.992228</td>\n",
       "      <td>1388.0</td>\n",
       "      <td>3.595855</td>\n",
       "      <td>33.92</td>\n",
       "      <td>-118.10</td>\n",
       "    </tr>\n",
       "    <tr>\n",
       "      <th>17961</th>\n",
       "      <td>6.4095</td>\n",
       "      <td>28.0</td>\n",
       "      <td>5.800604</td>\n",
       "      <td>0.950151</td>\n",
       "      <td>1883.0</td>\n",
       "      <td>2.844411</td>\n",
       "      <td>37.31</td>\n",
       "      <td>-121.98</td>\n",
       "    </tr>\n",
       "  </tbody>\n",
       "</table>\n",
       "<p>16512 rows × 8 columns</p>\n",
       "</div>"
      ],
      "text/plain": [
       "       MedInc  HouseAge  AveRooms  AveBedrms  Population  AveOccup  Latitude  \\\n",
       "19262  3.8750      20.0  5.838000   1.016000      1711.0  3.422000     38.44   \n",
       "4083   4.3036      36.0  5.065630   1.069085      1115.0  1.925734     34.15   \n",
       "19500  3.1857      24.0  4.902494   1.040816      1468.0  3.328798     37.67   \n",
       "9062   3.2500      32.0  5.220884   0.939759       712.0  2.859438     34.69   \n",
       "1196   2.6607      22.0  6.508021   1.197861       537.0  2.871658     39.34   \n",
       "...       ...       ...       ...        ...         ...       ...       ...   \n",
       "9082   4.1667      12.0  6.741713   1.109116      2188.0  3.022099     34.69   \n",
       "1891   3.3295      17.0  6.144444   1.150000       466.0  2.588889     38.92   \n",
       "501    2.2841      52.0  4.350649   1.077922       152.0  1.974026     37.85   \n",
       "7680   4.0774      35.0  5.225389   0.992228      1388.0  3.595855     33.92   \n",
       "17961  6.4095      28.0  5.800604   0.950151      1883.0  2.844411     37.31   \n",
       "\n",
       "       Longitude  \n",
       "19262    -122.73  \n",
       "4083     -118.38  \n",
       "19500    -121.03  \n",
       "9062     -118.15  \n",
       "1196     -121.67  \n",
       "...          ...  \n",
       "9082     -118.17  \n",
       "1891     -120.00  \n",
       "501      -122.27  \n",
       "7680     -118.10  \n",
       "17961    -121.98  \n",
       "\n",
       "[16512 rows x 8 columns]"
      ]
     },
     "execution_count": 12,
     "metadata": {},
     "output_type": "execute_result"
    }
   ],
   "source": [
    "### YOUR CODE HERE ###\n",
    "print(X_train_ref)\n",
    "\n",
    "ray.get(X_train_ref)"
   ]
  },
  {
   "cell_type": "markdown",
   "metadata": {},
   "source": [
    "**Solution**"
   ]
  },
  {
   "cell_type": "code",
   "execution_count": null,
   "metadata": {},
   "outputs": [],
   "source": [
    "### SAMPLE IMPLEMENTATION ###\n",
    "\n",
    "# print the object reference\n",
    "print(X_train_ref)\n",
    "\n",
    "# inspect the in-memory object\n",
    "ray.get(X_train_ref)"
   ]
  },
  {
   "cell_type": "markdown",
   "metadata": {},
   "source": [
    "#### Implement function to train and score model"
   ]
  },
  {
   "cell_type": "code",
   "execution_count": 13,
   "metadata": {},
   "outputs": [],
   "source": [
    "@ray.remote\n",
    "def train_and_score_model(\n",
    "    train_set_ref: pd.DataFrame,\n",
    "    test_set_ref: pd.DataFrame,\n",
    "    train_labels_ref: pd.Series,\n",
    "    test_labels_ref: pd.Series,\n",
    "    n_estimators: int,\n",
    ") -> tuple[int, float]:\n",
    "    start_time = time.time()  # measure wall time for single model training\n",
    "\n",
    "    model = RandomForestRegressor(n_estimators=n_estimators, random_state=201)\n",
    "    model.fit(train_set_ref, train_labels_ref)\n",
    "    y_pred = model.predict(test_set_ref)\n",
    "    score = mean_squared_error(test_labels_ref, y_pred)\n",
    "\n",
    "    time_delta = time.time() - start_time\n",
    "    print(\n",
    "        f\"n_estimators={n_estimators}, mse={score:.4f}, took: {time_delta:.2f} seconds\"\n",
    "    )\n",
    "\n",
    "    return n_estimators, score"
   ]
  },
  {
   "cell_type": "markdown",
   "metadata": {},
   "source": [
    "Notice that `train_and_score_model` is *the same function* as in the sequential example, except here, you add the `@ray.remote` decorator to specify that this function will be executed in a distributed manner."
   ]
  },
  {
   "cell_type": "markdown",
   "metadata": {},
   "source": [
    "#### Implement function that runs **parallel** model training"
   ]
  },
  {
   "cell_type": "code",
   "execution_count": 14,
   "metadata": {},
   "outputs": [],
   "source": [
    "def run_parallel(n_models: int) -> list[tuple[int, float]]:\n",
    "    results_ref = [\n",
    "        train_and_score_model.remote(\n",
    "            train_set_ref=X_train_ref,\n",
    "            test_set_ref=X_test_ref,\n",
    "            train_labels_ref=y_train_ref,\n",
    "            test_labels_ref=y_test_ref,\n",
    "            n_estimators=8 + 4 * j,\n",
    "        )\n",
    "        for j in range(n_models)\n",
    "    ]\n",
    "    return ray.get(results_ref)"
   ]
  },
  {
   "cell_type": "markdown",
   "metadata": {},
   "source": [
    "Before, you defined `run_sequential()` to train and score `NUM_MODELS`. Working from the inside-out, modifying this into `run_parallel()` involves three steps:\n",
    "\n",
    "1. Append a `.remote` postfix to `train_and_score_model`.  \n",
    "    * Remember that you specified this function as a remote task in the previous cell. In Ray, you append this suffix to every remote call.\n",
    "2. Capture the resulting list of object references in `results_ref`.\n",
    "    * Rather than waiting for the results, you immediately receive a list of references to results that are expected to be available in the future. This asychronous (non-blocking) call allows a program to continue executing other operations while the potentially time-consuming operations can be computed in the background.\n",
    "3. Access results with `ray.get()`.\n",
    "    * Once all models have been assigned to workers, call `ray.get()` on the list of object references `results_ref` to retrieve completed results. This is a synchronous (blocking) operation because it waits until all computation on objects complete.\n",
    "\n",
    "For example,\n",
    "\n",
    "```\n",
    "ray.get([ObjectRef, ObjectRef, ObjectRef, ...])\n",
    "```\n",
    "\n",
    "returns list of `(n_estimators, score)` tuples."
   ]
  },
  {
   "cell_type": "markdown",
   "metadata": {},
   "source": [
    "#### Run parallel model training "
   ]
  },
  {
   "cell_type": "code",
   "execution_count": 15,
   "metadata": {},
   "outputs": [
    {
     "name": "stdout",
     "output_type": "stream",
     "text": [
      "\u001b[2m\u001b[36m(train_and_score_model pid=50626)\u001b[0m n_estimators=8, mse=0.2983, took: 1.59 seconds\n",
      "\u001b[2m\u001b[36m(train_and_score_model pid=50618)\u001b[0m n_estimators=12, mse=0.2826, took: 2.49 seconds\n",
      "\u001b[2m\u001b[36m(train_and_score_model pid=50617)\u001b[0m n_estimators=16, mse=0.2761, took: 3.27 seconds\n",
      "\u001b[2m\u001b[36m(train_and_score_model pid=50628)\u001b[0m n_estimators=20, mse=0.2716, took: 4.11 seconds\n",
      "\u001b[2m\u001b[36m(train_and_score_model pid=50621)\u001b[0m n_estimators=24, mse=0.2694, took: 4.86 seconds\n",
      "\u001b[2m\u001b[36m(train_and_score_model pid=50625)\u001b[0m n_estimators=28, mse=0.2686, took: 5.66 seconds\n",
      "\u001b[2m\u001b[36m(train_and_score_model pid=50622)\u001b[0m n_estimators=32, mse=0.2662, took: 6.50 seconds\n",
      "\u001b[2m\u001b[36m(train_and_score_model pid=50623)\u001b[0m n_estimators=36, mse=0.2663, took: 7.30 seconds\n",
      "\u001b[2m\u001b[36m(train_and_score_model pid=50624)\u001b[0m n_estimators=40, mse=0.2635, took: 8.11 seconds\n",
      "\u001b[2m\u001b[36m(train_and_score_model pid=50619)\u001b[0m n_estimators=44, mse=0.2622, took: 8.90 seconds\n",
      "\u001b[2m\u001b[36m(train_and_score_model pid=50627)\u001b[0m n_estimators=48, mse=0.2616, took: 9.57 seconds\n",
      "\u001b[2m\u001b[36m(train_and_score_model pid=50620)\u001b[0m n_estimators=52, mse=0.2609, took: 10.19 seconds\n",
      "\u001b[2m\u001b[36m(train_and_score_model pid=50626)\u001b[0m n_estimators=56, mse=0.2615, took: 10.56 seconds\n",
      "\u001b[2m\u001b[36m(train_and_score_model pid=50618)\u001b[0m n_estimators=60, mse=0.2608, took: 10.83 seconds\n",
      "\u001b[2m\u001b[36m(train_and_score_model pid=50617)\u001b[0m n_estimators=64, mse=0.2614, took: 11.13 seconds\n",
      "\u001b[2m\u001b[36m(train_and_score_model pid=50628)\u001b[0m n_estimators=68, mse=0.2616, took: 11.44 seconds\n",
      "\u001b[2m\u001b[36m(train_and_score_model pid=50621)\u001b[0m n_estimators=72, mse=0.2617, took: 11.63 seconds\n",
      "\u001b[2m\u001b[36m(train_and_score_model pid=50625)\u001b[0m n_estimators=76, mse=0.2614, took: 12.02 seconds\n",
      "\u001b[2m\u001b[36m(train_and_score_model pid=50622)\u001b[0m n_estimators=80, mse=0.2607, took: 12.38 seconds\n",
      "CPU times: user 142 ms, sys: 87.8 ms, total: 229 ms\n",
      "Wall time: 24.7 s\n"
     ]
    },
    {
     "name": "stdout",
     "output_type": "stream",
     "text": [
      "\u001b[2m\u001b[36m(train_and_score_model pid=50623)\u001b[0m n_estimators=84, mse=0.2601, took: 12.68 seconds\n"
     ]
    }
   ],
   "source": [
    "%%time\n",
    "\n",
    "mse_scores = run_parallel(n_models=NUM_MODELS)"
   ]
  },
  {
   "cell_type": "markdown",
   "metadata": {},
   "source": [
    "Notice **6x performance gain**:\n",
    "\n",
    "* Parallel: 10s\n",
    "* Sequential: 1min (60s)\n",
    "\n",
    "\n",
    "*(experiment on the M1 MacBook Pro)*"
   ]
  },
  {
   "cell_type": "markdown",
   "metadata": {},
   "source": [
    "#### Analyze results"
   ]
  },
  {
   "cell_type": "code",
   "execution_count": 16,
   "metadata": {},
   "outputs": [
    {
     "name": "stdout",
     "output_type": "stream",
     "text": [
      "Best model: mse=0.2601, n_estimators=84\n"
     ]
    }
   ],
   "source": [
    "best = min(mse_scores, key=itemgetter(1))\n",
    "print(f\"Best model: mse={best[1]:.4f}, n_estimators={best[0]}\")"
   ]
  },
  {
   "cell_type": "markdown",
   "metadata": {},
   "source": [
    "Training has completed with a **6x performance gain** due to parallel execution."
   ]
  },
  {
   "cell_type": "markdown",
   "metadata": {},
   "source": [
    "#### Shutdown Ray runtime"
   ]
  },
  {
   "cell_type": "code",
   "execution_count": 17,
   "metadata": {},
   "outputs": [],
   "source": [
    "ray.shutdown()"
   ]
  },
  {
   "cell_type": "markdown",
   "metadata": {},
   "source": [
    "Disconnect the worker and terminate processes started by `ray.init()`."
   ]
  },
  {
   "cell_type": "markdown",
   "metadata": {},
   "source": [
    "### Summary of Part 2: code example\n",
    "\n",
    "You achieved a significant performance gain by introducing parallel model training. You adapted a sequential model training computational job to run in parallel by using the Ray Core API.\n",
    "\n",
    "With Ray, you parallelized training without having to implement the orchestration, fault tolerance or autoscaling component that requires specialized knowledge of distributed systems.\n",
    "\n",
    "#### Key concepts\n",
    "\n",
    "1. [**Tasks**](https://docs.ray.io/en/latest/ray-core/key-concepts.html#tasks). Remote, stateless Python functions\n",
    "1. [**Actors**](https://docs.ray.io/en/latest/ray-core/key-concepts.html#actors). Remote, stateful Python classes\n",
    "1. [**Objects**](https://docs.ray.io/en/latest/ray-core/key-concepts.html#objects). Tasks and actors create and compute on objects that can be stored and accessed anywhere in the cluster; cached in Ray's distributed [shared-memory](https://en.wikipedia.org/wiki/Shared_memory) object store\n",
    "\n",
    "#### Key API elements\n",
    "\n",
    "* **`ray.init()`**  \n",
    "Start Ray runtime and connect to the Ray cluster.\n",
    "* **`@ray.remote`**  \n",
    "Decorator that specifies a Python function or class to be executed as a task (remote function) or actor (remote class) in a different process.\n",
    "* **`.remote`**  \n",
    "Postfix to the remote functions and classes; remote operations are *asynchronous*.\n",
    "* **`ray.put()`**  \n",
    "Put an object in the in-memory object store; returns an object reference used to pass the object to any remote function or method call.\n",
    "* **`ray.get()`**  \n",
    "Get a remote object(s) from the object store by specifying the object reference(s).\n",
    "\n",
    "|<img src=\"https://technical-training-assets.s3.us-west-2.amazonaws.com/Overview_of_Ray/side_by_side.png\" width=\"100%\" loading=\"lazy\">|\n",
    "|:--|\n",
    "|Comparison of sample workflow with minimal code changes needed to distribute tasks on Ray.|"
   ]
  },
  {
   "cell_type": "markdown",
   "metadata": {},
   "source": [
    "# Connect with the Ray community\n",
    "\n",
    "You can learn and get more involved with the Ray community of developers and researchers:\n",
    "\n",
    "* [**Ray documentation**](https://docs.ray.io/en/latest)\n",
    "\n",
    "* [**Official Ray site**](https://www.ray.io/)  \n",
    "Browse the ecosystem and use this site as a hub to get the information that you need to get going and building with Ray.\n",
    "\n",
    "* [**Join the community on Slack**](https://forms.gle/9TSdDYUgxYs8SA9e8)  \n",
    "Find friends to discuss your new learnings in our Slack space.\n",
    "\n",
    "* [**Use the discussion board**](https://discuss.ray.io/)  \n",
    "Ask questions, follow topics, and view announcements on this community forum.\n",
    "\n",
    "* [**Join a meetup group**](https://www.meetup.com/Bay-Area-Ray-Meetup/)  \n",
    "Tune in on meet-ups to listen to compelling talks, get to know other users, and meet the team behind Ray.\n",
    "\n",
    "* [**Open an issue**](https://github.com/ray-project/ray/issues/new/choose)  \n",
    "Ray is constantly evolving to improve developer experience. Submit feature requests, bug-reports, and get help via GitHub issues.\n",
    "\n",
    "* [**Become a Ray contributor**](https://docs.ray.io/en/latest/ray-contribute/getting-involved.html)  \n",
    "We welcome community contributions to improve our documentation and Ray framework."
   ]
  },
  {
   "cell_type": "markdown",
   "metadata": {},
   "source": [
    "<img src=\"https://technical-training-assets.s3.us-west-2.amazonaws.com/Generic/ray_logo.png\" width=\"20%\" loading=\"lazy\">"
   ]
  }
 ],
 "metadata": {
  "kernelspec": {
   "display_name": "Python 3 (ipykernel)",
   "language": "python",
   "name": "python3"
  },
  "language_info": {
   "codemirror_mode": {
    "name": "ipython",
    "version": 3
   },
   "file_extension": ".py",
   "mimetype": "text/x-python",
   "name": "python",
   "nbconvert_exporter": "python",
   "pygments_lexer": "ipython3",
   "version": "3.9.13"
  },
  "vscode": {
   "interpreter": {
    "hash": "567405a8058597909526349386224fe35dd047505a91307e44ed44be00113429"
   }
  }
 },
 "nbformat": 4,
 "nbformat_minor": 4
}
